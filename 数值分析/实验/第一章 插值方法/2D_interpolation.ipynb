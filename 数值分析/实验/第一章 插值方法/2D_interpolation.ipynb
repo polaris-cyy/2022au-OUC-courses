{
 "cells": [
  {
   "cell_type": "code",
   "execution_count": 14,
   "id": "bc9ea095-6d6d-4f7e-96eb-84eb48c191f9",
   "metadata": {},
   "outputs": [],
   "source": [
    "import numpy as np\n",
    "import math as m\n"
   ]
  },
  {
   "cell_type": "code",
   "execution_count": 15,
   "id": "a3e76f88-901e-4dbe-bb85-65afc9ee6b61",
   "metadata": {},
   "outputs": [],
   "source": [
    "# 用于求距离反比平方之和\n",
    "def Dsum(x, y, pointlist=[]):\n",
    "    dsum = 0\n",
    "    #point[x, y, sample]: 横坐标，纵坐标，样本值\n",
    "    for point in pointlist:\n",
    "        p_x = point[0]\n",
    "        p_y = point[1]\n",
    "        d_2 = (p_x - x) ** 2 + (p_y - y) ** 2\n",
    "        dsum += 1 / d_2\n",
    "    return dsum"
   ]
  },
  {
   "cell_type": "code",
   "execution_count": 16,
   "id": "935fbdb3-62d7-4a23-9b97-2fba0076b239",
   "metadata": {},
   "outputs": [],
   "source": [
    "# 用于求出pointlist中所有点的权值\n",
    "def Weight(x, y, pointlist=[]):\n",
    "    dsum = Dsum(x, y, pointlist)\n",
    "    weight = []\n",
    "    for point in pointlist:\n",
    "        p_x = point[0]\n",
    "        p_y = point[1]\n",
    "        d_2 = (p_x - x) ** 2 + (p_y - y) ** 2\n",
    "        weight.append(1/d_2/dsum)\n",
    "    return weight"
   ]
  },
  {
   "cell_type": "code",
   "execution_count": 17,
   "id": "ab27c4c8-bf30-4418-a999-c6286529fda2",
   "metadata": {},
   "outputs": [],
   "source": [
    "def IDW(x, y, pointlist=[]):\n",
    "    weight = Weight(x, y, pointlist)\n",
    "    i = 0\n",
    "    inter = 0\n",
    "    for i in range(len(pointlist)):\n",
    "        inter = pointlist[i][2] * weight[i] + inter\n",
    "    return inter\n",
    "    "
   ]
  },
  {
   "cell_type": "code",
   "execution_count": 51,
   "id": "f8623ce5-1aab-46c4-9da5-271ff0d30ccf",
   "metadata": {},
   "outputs": [
    {
     "name": "stdout",
     "output_type": "stream",
     "text": [
      "x=[0.826 1.485 1.216], y=[1.756 1.781 2.253], Interpolation=[20.204 20.905 20.555]\n",
      "x=[1.826 2.485 2.216], y=[2.756 2.781 3.253], Interpolation=[25.526 25.138 25.558]\n",
      "x=[2.826 3.485 3.216], y=[3.756 3.781 4.253], Interpolation=[23.159 23.186 23.072]\n"
     ]
    }
   ],
   "source": [
    "pointlist = [(1, 2, 20), (2, 3, 26), (3, 4, 23)]\n",
    "x = np.random.rand(3,) + 0.5\n",
    "y = np.random.rand(3,) + 1.5\n",
    "print(f\"x={x.round(3)}, y={y.round(3)}, Interpolation={IDW(x, y, pointlist).round(3)}\")\n",
    "for i in range(2):\n",
    "    x = x + 1\n",
    "    y = y + 1\n",
    "    print(f\"x={x.round(3)}, y={y.round(3)}, Interpolation={IDW(x, y, pointlist).round(3)}\")\n",
    "\n"
   ]
  },
  {
   "cell_type": "code",
   "execution_count": null,
   "id": "a5e4b791-686c-476c-9ec6-2fa83f37e0ff",
   "metadata": {},
   "outputs": [],
   "source": []
  },
  {
   "cell_type": "code",
   "execution_count": null,
   "id": "db98ce89-3eb9-4671-ad58-19378836fe00",
   "metadata": {},
   "outputs": [],
   "source": []
  },
  {
   "cell_type": "code",
   "execution_count": null,
   "id": "7866d5fe-9828-4d1c-92c1-c6826fde8682",
   "metadata": {},
   "outputs": [],
   "source": []
  },
  {
   "cell_type": "code",
   "execution_count": null,
   "id": "6d646a1f-ad8c-44ca-b84d-45279965e6f0",
   "metadata": {},
   "outputs": [],
   "source": []
  }
 ],
 "metadata": {
  "kernelspec": {
   "display_name": "Python 3 (ipykernel)",
   "language": "python",
   "name": "python3"
  },
  "language_info": {
   "codemirror_mode": {
    "name": "ipython",
    "version": 3
   },
   "file_extension": ".py",
   "mimetype": "text/x-python",
   "name": "python",
   "nbconvert_exporter": "python",
   "pygments_lexer": "ipython3",
   "version": "3.9.12"
  }
 },
 "nbformat": 4,
 "nbformat_minor": 5
}
