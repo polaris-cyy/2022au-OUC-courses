{
 "cells": [
  {
   "cell_type": "code",
   "execution_count": 1,
   "id": "44c49142-e960-4d90-9c38-69330b827772",
   "metadata": {},
   "outputs": [],
   "source": [
    "import math as m\n",
    "import numpy as np"
   ]
  },
  {
   "cell_type": "code",
   "execution_count": 7,
   "id": "8e156e43-be72-41b2-89da-358f9a9a2ce4",
   "metadata": {},
   "outputs": [
    {
     "name": "stdout",
     "output_type": "stream",
     "text": [
      "13.164279999999998\n"
     ]
    }
   ],
   "source": [
    "delta=[6.1675, 18.035, 32.962, 46.223, 57.578, 69.510, 83.840, 97.765, 110.11, 123.67, 138.03]\n",
    "sum = 0\n",
    "for i in range(1, 6):\n",
    "    sum += delta[i + 5] - delta[i]\n",
    "sum = sum / 25\n",
    "print(sum)"
   ]
  },
  {
   "cell_type": "code",
   "execution_count": null,
   "id": "b91060b3-04f9-4ac9-ad4c-8323453ffba5",
   "metadata": {},
   "outputs": [],
   "source": []
  }
 ],
 "metadata": {
  "kernelspec": {
   "display_name": "Python 3 (ipykernel)",
   "language": "python",
   "name": "python3"
  },
  "language_info": {
   "codemirror_mode": {
    "name": "ipython",
    "version": 3
   },
   "file_extension": ".py",
   "mimetype": "text/x-python",
   "name": "python",
   "nbconvert_exporter": "python",
   "pygments_lexer": "ipython3",
   "version": "3.10.4"
  }
 },
 "nbformat": 4,
 "nbformat_minor": 5
}
