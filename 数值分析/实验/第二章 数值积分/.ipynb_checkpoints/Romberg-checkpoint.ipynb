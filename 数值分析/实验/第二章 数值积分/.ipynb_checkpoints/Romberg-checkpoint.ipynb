{
 "cells": [
  {
   "cell_type": "code",
   "execution_count": 1,
   "id": "3de6b54d-9a88-41d8-845e-4c2ca62c7b97",
   "metadata": {},
   "outputs": [],
   "source": [
    "import numpy as np\n",
    "import math as m"
   ]
  },
  {
   "cell_type": "code",
   "execution_count": 2,
   "id": "e07dd3e6-70c6-458f-8fd9-573dcb17e29e",
   "metadata": {},
   "outputs": [],
   "source": [
    "def Calculate_func(X, *, functype):\n",
    "    \"\"\"\n",
    "\n",
    "    :param X: 样本点\n",
    "    :param func: 函数类型\n",
    "    :return: 函数值\n",
    "    \"\"\"\n",
    "    if functype == \"Exp\":\n",
    "        return np.exp(X)\n",
    "    elif functype == \"Frac\":\n",
    "        return 1 / X\n",
    "    elif functype == \"Real\":\n",
    "        return m.sqrt(1-((972.5/7782.5)*np.sin(X))**2)\n",
    "    else:\n",
    "        print(f\"Invalid function {functype}\")\n",
    "        exit(1)"
   ]
  },
  {
   "cell_type": "code",
   "execution_count": 3,
   "id": "c659defb-b675-4f22-b7ed-94693794d666",
   "metadata": {},
   "outputs": [],
   "source": [
    "def Trapezoidal_next(ans, func, left, right, n, *, functype):\n",
    "    sum = 0\n",
    "    h = (right - left) * 2 ** (-n)\n",
    "    ans = ans / 2\n",
    "    point = left + h / 2\n",
    "    n = 2 ** n\n",
    "    for i in range(n):\n",
    "        sum += Calculate_func(point + i * h, functype=func)\n",
    "    h = h / 2\n",
    "    ans += sum * h\n",
    "    \n",
    "    return [ans, h]\n",
    "\n",
    "def Trapezoidal(left, right, n, *, func=\"Exp\"):\n",
    "    \"\"\"\n",
    "\n",
    "    :param left: 左边界\n",
    "    :param right: 右边界\n",
    "    :param n: 区间个数为2 ** n\n",
    "    :param func: 函数类型\n",
    "    :return: 积分值\n",
    "    \"\"\"\n",
    "\n",
    "    h = right - left\n",
    "    ans = Calculate_func(left, functype=func) + Calculate_func(right, functype=func)\n",
    "    ans = ans * h / 2\n",
    "    for i in range(n):\n",
    "        ans, h = Trapezoidal_next(ans, func, left, right, i, functype=func)\n",
    "        \n",
    "    return ans\n",
    "\n",
    "def Trapezoidal_precision(left, right, theory, *, functype, precision):\n",
    "    epsilon = 10 ** (-precision) / 2\n",
    "    n = 0\n",
    "    h = right - left\n",
    "    trap = Trapezoidal(left, right, 0, func=functype)\n",
    "    func = functype\n",
    "    while abs(trap - theory) > epsilon:\n",
    "        trap, h = Trapezoidal_next(trap, func, left, right, n, functype=func)\n",
    "        n = n + 1\n",
    "        \n",
    "    \n",
    "    print(\"Trapezoidal method\")\n",
    "    print(f\"Theory value: {theory}\")\n",
    "    print(f\"Predicted value: {round(trap, precision)}\")\n",
    "    print(f\"Intervals: {2 ** n}\")"
   ]
  },
  {
   "cell_type": "code",
   "execution_count": 4,
   "id": "cd6979d9-3113-4985-b8f3-c0578d9f5d35",
   "metadata": {},
   "outputs": [],
   "source": [
    "def Simpson(left, right, n, *, func=\"Exp\"):\n",
    "\n",
    "    \"\"\"\n",
    "\n",
    "    :param left: 左边界\n",
    "    :param right: 右边界\n",
    "    :param n: 区间个数为2 ** (n + 1)\n",
    "    :param func: 函数类型\n",
    "    :return: 前项为积分值，后项用于递推\n",
    "    \"\"\"\n",
    "    trap1 = Trapezoidal(left, right, n, func=func)\n",
    "    trap2 = Trapezoidal_next(trap1, func, left, right, n, functype=func)[0]\n",
    "    return [(trap2 * 4 - trap1) / 3, trap2]\n",
    "\n",
    "def Simpson_next(simp, left, right, n, *, func):\n",
    "    trap_next = Trapezoidal_next(simp[1], func, left, right, n + 1, functype=func)[0]\n",
    "    return [(trap_next * 4 - simp[1]) / 3, trap_next]\n",
    "\n",
    "def Simpson_precision(left, right, theory, *, functype, precision):\n",
    "    epsilon = 10 ** (-precision) / 2\n",
    "    n = 0\n",
    "    h = right - left\n",
    "    simp = Simpson(left, right, 0, func=functype)\n",
    "    func = functype\n",
    "    while abs(simp[0] - theory) > epsilon:\n",
    "        simp = Simpson_next(simp, left, right, n, func=func)\n",
    "        n = n + 1\n",
    "        \n",
    "    \n",
    "    print(\"Simpson method\")\n",
    "    print(f\"Theory value: {theory}\")\n",
    "    print(f\"Predicted value: {round(simp[0], precision)}\")\n",
    "    print(f\"Intervals: {2 ** (n + 1)}\\n\")"
   ]
  },
  {
   "cell_type": "code",
   "execution_count": 5,
   "id": "25c663e5-fa9f-4fca-9613-358a1bd36b59",
   "metadata": {},
   "outputs": [],
   "source": [
    "def Cotes(left, right, n, *, func=\"Exp\"):\n",
    "    \"\"\"\n",
    "\n",
    "    :param left: 左边界\n",
    "    :param right: 右边界\n",
    "    :param n: 区间个数为2 ** (n + 2)\n",
    "    :param func: 函数类型\n",
    "    :return: 积分值\n",
    "    \"\"\"\n",
    "    simp1, trap2 = Simpson(left, right, n, func=func)\n",
    "    trap3 = Trapezoidal_next(trap2, func, left, right, n+1, functype=func)[0]\n",
    "    simp2 = trap3 * 4 / 3 - trap2 / 3\n",
    "    cotes1 = simp2 * 16 / 15 - simp1 / 15\n",
    "    return [cotes1, simp2, trap3]\n",
    "\n",
    "def Cotes_next(cotes, left, right, n, *, func):\n",
    "    simp_next, trap_next = Simpson_next([cotes[1], cotes[2]], left, right, n+1, func=func)\n",
    "    return [simp_next * 16 / 15 - cotes[1] / 15, simp_next, trap_next]\n",
    "\n",
    "def Cotes_precision(left, right, theory, *, functype, precision):\n",
    "    epsilon = 10 ** (-precision) / 2\n",
    "    n = 0\n",
    "    cotes = Cotes(left, right, 0, func=functype)\n",
    "    while abs(cotes[0] - theory) > epsilon:\n",
    "        cotes = Cotes_next(cotes, left, right, n, func=functype)\n",
    "        n = n + 1\n",
    "    \n",
    "    print(\"Cotes method\")\n",
    "    print(f\"Theory value: {theory}\")\n",
    "    print(f\"Predicted value: {round(cotes[0], precision)}\")\n",
    "    print(f\"Intervals: {2 ** (n + 2)}\\n\")"
   ]
  },
  {
   "cell_type": "code",
   "execution_count": 6,
   "id": "fb821522-e89a-4149-a0f7-47836fccee4d",
   "metadata": {},
   "outputs": [],
   "source": [
    "def Romberg(left, right, n, *, functype=\"Exp\"):\n",
    "    \"\"\"\n",
    "\n",
    "    :param left: 左边界\n",
    "    :param right: 右边界\n",
    "    :param n: 区间个数为2 ** (n + 3)\n",
    "    :param functype: 函数类型\n",
    "    :return: 积分值\n",
    "    \"\"\"\n",
    "\n",
    "    cotes1, simp2, trap3 = Cotes(left, right, n, func=functype)\n",
    "    trap4 = Trapezoidal_next(trap3, functype, left, right, n + 2, functype=functype)[0]\n",
    "    simp3 = trap4 * 4 / 3 - trap3 / 3\n",
    "    cotes2 = simp3 * 16 / 15 - simp2 / 15\n",
    "    return [cotes2 * 64 / 63 - cotes1 / 63, cotes2, simp3, trap4]\n",
    "\n",
    "def Romberg_next(left, right, n, rom, *, functype):\n",
    "    trap5 = Trapezoidal_next(rom[3], functype, left, right, n + 3, functype=functype)[0]\n",
    "    simp4 = trap5 * 4 / 3 - rom[3] / 3\n",
    "    cotes3 = simp4 * 16 / 15 - rom[2] / 15\n",
    "    return [cotes3 * 64 / 63 - rom[1] / 63, cotes3, simp4, trap5]\n",
    "\n",
    "def Romberg_precision(left, right, theory, *, functype, precision):\n",
    "    epsilon = 10 ** (-precision) / 2\n",
    "    n = 0\n",
    "    rom = Romberg(left, right, 0, functype=functype)\n",
    "    while abs(rom[0] - theory) > epsilon:\n",
    "        rom = Romberg_next(left, right, n, rom, functype=functype)\n",
    "        n = n + 1\n",
    "    \n",
    "    print(\"Romberg method\")\n",
    "    print(f\"Theory value: {theory}\")\n",
    "    print(f\"Predicted value: {round(rom[0], precision)}\")\n",
    "    print(f\"Intervals: {2 ** (n + 3)}\\n\")"
   ]
  },
  {
   "cell_type": "code",
   "execution_count": 7,
   "id": "811780ac-8ca8-411a-88b3-d078ddd3b6b9",
   "metadata": {},
   "outputs": [],
   "source": [
    "def precision_test(left, right, theory, n, *, func):\n",
    "    Romberg_precision(left, right, theory, functype=func, precision=n)\n",
    "    Cotes_precision(left, right, theory, functype=func, precision=n)\n",
    "    Simpson_precision(left, right, theory, functype=func, precision=n)\n",
    "    Trapezoidal_precision(left, right, theory, functype=func, precision=n)"
   ]
  },
  {
   "cell_type": "code",
   "execution_count": 8,
   "id": "b9fb190a-0c3f-42b7-b9cd-b685144c12ff",
   "metadata": {},
   "outputs": [
    {
     "name": "stdout",
     "output_type": "stream",
     "text": [
      "Romberg method\n",
      "Theory value: 17.36725509472862\n",
      "Predicted value: 17.367255094729\n",
      "Intervals: 64\n",
      "\n",
      "Cotes method\n",
      "Theory value: 17.36725509472862\n",
      "Predicted value: 17.367255094729\n",
      "Intervals: 256\n",
      "\n",
      "Simpson method\n",
      "Theory value: 17.36725509472862\n",
      "Predicted value: 17.367255094729\n",
      "Intervals: 2048\n",
      "\n",
      "Trapezoidal method\n",
      "Theory value: 17.36725509472862\n",
      "Predicted value: 17.367255094729\n",
      "Intervals: 4194304\n"
     ]
    }
   ],
   "source": [
    "precision_test(1, 3, m.e ** 3 - m.e, 12, func=\"Exp\")"
   ]
  },
  {
   "cell_type": "code",
   "execution_count": 9,
   "id": "46a065cf-dd52-4de3-885f-147f1e2a3bb9",
   "metadata": {},
   "outputs": [
    {
     "name": "stdout",
     "output_type": "stream",
     "text": [
      "Romberg method\n",
      "Theory value: 1.6094379124341003\n",
      "Predicted value: 1.609437912434\n",
      "Intervals: 256\n",
      "\n",
      "Cotes method\n",
      "Theory value: 1.6094379124341003\n",
      "Predicted value: 1.609437912434\n",
      "Intervals: 512\n",
      "\n",
      "Simpson method\n",
      "Theory value: 1.6094379124341003\n",
      "Predicted value: 1.609437912435\n",
      "Intervals: 2048\n",
      "\n",
      "Trapezoidal method\n",
      "Theory value: 1.6094379124341003\n",
      "Predicted value: 1.609437912434\n",
      "Intervals: 2097152\n"
     ]
    }
   ],
   "source": [
    "precision_test(1, 5, np.log(5), 12, func=\"Frac\")"
   ]
  },
  {
   "cell_type": "code",
   "execution_count": 10,
   "id": "73524817-a7b0-4699-9a63-21eb8d1688ab",
   "metadata": {},
   "outputs": [],
   "source": [
    "def simpson(left, right, *, func):\n",
    "    return Simpson(left, right, 1, func=func)[0]\n",
    "\n",
    "def asr(left, right, simp, *, epsilon, func):\n",
    "    mid = (left + right) / 2\n",
    "    l = simpson(left, mid, func=func)\n",
    "    r = simpson(mid, right, func=func)\n",
    "    if abs(l + r - simp) <= 15 * epsilon:\n",
    "        return l + r + (l + r - simp) / 15\n",
    "    else:\n",
    "        return asr(left, mid, l, epsilon=epsilon/2, func=func) + asr(mid, right, r, epsilon=epsilon/2, func=func)"
   ]
  },
  {
   "cell_type": "code",
   "execution_count": 11,
   "id": "2e22f65c-9a9b-4c19-88c2-b798d9ffc335",
   "metadata": {},
   "outputs": [],
   "source": [
    "def asr_test(left, right, func, epsilon, theory):\n",
    "    answer = asr(left, right, simpson(left, right, func=func), epsilon=epsilon, func=func)\n",
    "    print(\"Adaptive Simpson method\")\n",
    "    print(f\"Theory value: {theory}\")\n",
    "    print(f\"Predicted value: {answer}\")"
   ]
  },
  {
   "cell_type": "code",
   "execution_count": 12,
   "id": "2ff655e8-a071-44a7-a987-fcfacbb172d2",
   "metadata": {},
   "outputs": [
    {
     "name": "stdout",
     "output_type": "stream",
     "text": [
      "Adaptive Simpson method\n",
      "Theory value: 1.6094379124341003\n",
      "Predicted value: 1.6094379124341003\n"
     ]
    }
   ],
   "source": [
    "asr_test(1, 5, \"Frac\", 10 ** (-12), np.log(5))"
   ]
  },
  {
   "cell_type": "code",
   "execution_count": 13,
   "id": "80ee9617-dfa7-43c0-b851-acc7ee4d3d6f",
   "metadata": {},
   "outputs": [
    {
     "name": "stdout",
     "output_type": "stream",
     "text": [
      "Adaptive Simpson method\n",
      "Theory value: 17.36725509472862\n",
      "Predicted value: 17.367255094728623\n"
     ]
    }
   ],
   "source": [
    "asr_test(1, 3, \"Exp\", 10 ** (-12), m.e ** 3 - m.e)"
   ]
  },
  {
   "cell_type": "code",
   "execution_count": 14,
   "id": "9761d0bb-0172-490f-9bcb-b5c3ac6a396d",
   "metadata": {},
   "outputs": [
    {
     "data": {
      "text/plain": [
       "48707.43851187989"
      ]
     },
     "execution_count": 14,
     "metadata": {},
     "output_type": "execute_result"
    }
   ],
   "source": [
    "4 * 7782.5 * asr(0, m.pi/2, simpson(0, m.pi/2, func=\"Real\"), epsilon=10**(-12), func=\"Real\")"
   ]
  },
  {
   "cell_type": "code",
   "execution_count": 16,
   "id": "dc7b574c-aa47-4082-9aa7-3d5c2f6aaac4",
   "metadata": {},
   "outputs": [],
   "source": [
    "def Circumstance(a, b):\n",
    "    def func(X):\n",
    "        m.sqrt(1-((b/a)*np.sin(X))**2)\n",
    "        \n",
    "    def simpson(left, right):\n",
    "        return (func(left) + 4 * func((left + right) / 2) + func(right)) / 6\n",
    "    \n",
    "    def asr(left, right, simp, *, epsilon):\n",
    "        mid = (left + right) / 2\n",
    "        l = simpson(left, mid)\n",
    "        r = simpson(mid, right)\n",
    "        if abs(l + r - simp) <= 15 * epsilon:\n",
    "            return l + r + (l + r - simp) / 15\n",
    "        else:\n",
    "            return asr(left, mid, l, epsilon=epsilon/2) + asr(mid, right, r, epsilon=epsilon/2)"
   ]
  },
  {
   "cell_type": "code",
   "execution_count": null,
   "id": "bef08747-748b-45e1-a308-c13f66ec8bf3",
   "metadata": {},
   "outputs": [],
   "source": []
  },
  {
   "cell_type": "code",
   "execution_count": null,
   "id": "8739d9d8-410f-4ddd-98eb-34e7bf2d8184",
   "metadata": {},
   "outputs": [],
   "source": []
  },
  {
   "cell_type": "code",
   "execution_count": null,
   "id": "09efcb60-7401-4130-a966-5fdea7123c53",
   "metadata": {},
   "outputs": [],
   "source": []
  },
  {
   "cell_type": "code",
   "execution_count": null,
   "id": "5cd52f07-2632-4614-a147-68c88d09b98a",
   "metadata": {},
   "outputs": [],
   "source": []
  },
  {
   "cell_type": "code",
   "execution_count": null,
   "id": "12bd93b3-3a9f-499d-a3b7-8c9db87f721e",
   "metadata": {},
   "outputs": [],
   "source": []
  },
  {
   "cell_type": "code",
   "execution_count": null,
   "id": "9f33be5e-ffb3-43c7-af3c-6d03a2993c0d",
   "metadata": {},
   "outputs": [],
   "source": []
  },
  {
   "cell_type": "code",
   "execution_count": null,
   "id": "4691feca-e37f-4454-a00e-825ca5d9fcee",
   "metadata": {},
   "outputs": [],
   "source": []
  },
  {
   "cell_type": "code",
   "execution_count": null,
   "id": "41f60792-6a25-49d1-8e09-aa77d3e283b2",
   "metadata": {},
   "outputs": [],
   "source": []
  },
  {
   "cell_type": "code",
   "execution_count": null,
   "id": "cd81a6b3-ee32-49fa-bc37-f4564f2fb5b4",
   "metadata": {},
   "outputs": [],
   "source": []
  },
  {
   "cell_type": "code",
   "execution_count": null,
   "id": "0949eb8b-6437-43e3-8e0c-d3530ab2e439",
   "metadata": {},
   "outputs": [],
   "source": []
  }
 ],
 "metadata": {
  "kernelspec": {
   "display_name": "Python 3 (ipykernel)",
   "language": "python",
   "name": "python3"
  },
  "language_info": {
   "codemirror_mode": {
    "name": "ipython",
    "version": 3
   },
   "file_extension": ".py",
   "mimetype": "text/x-python",
   "name": "python",
   "nbconvert_exporter": "python",
   "pygments_lexer": "ipython3",
   "version": "3.10.4"
  }
 },
 "nbformat": 4,
 "nbformat_minor": 5
}
