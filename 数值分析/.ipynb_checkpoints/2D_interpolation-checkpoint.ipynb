{
 "cells": [
  {
   "cell_type": "code",
   "execution_count": 4,
   "id": "bc9ea095-6d6d-4f7e-96eb-84eb48c191f9",
   "metadata": {},
   "outputs": [],
   "source": [
    "import numpy as np\n",
    "import math as m\n"
   ]
  },
  {
   "cell_type": "code",
   "execution_count": 5,
   "id": "a3e76f88-901e-4dbe-bb85-65afc9ee6b61",
   "metadata": {},
   "outputs": [],
   "source": [
    "# 用于求距离反比平方之和\n",
    "def Dsum(x, y, pointlist=[]):\n",
    "    dsum = 0\n",
    "    #point[x, y, sample]: 横坐标，纵坐标，样本值\n",
    "    for point in pointlist:\n",
    "        p_x = point[0]\n",
    "        p_y = point[1]\n",
    "        d_2 = (p_x - x) ** 2 + (p_y - y) ** 2\n",
    "        dsum += 1 / d_2\n",
    "    return dsum"
   ]
  },
  {
   "cell_type": "code",
   "execution_count": 6,
   "id": "935fbdb3-62d7-4a23-9b97-2fba0076b239",
   "metadata": {},
   "outputs": [],
   "source": [
    "# 用于求出pointlist中所有点的权值\n",
    "def Weight(x, y, pointlist=[]):\n",
    "    dsum = Dsum(x, y, pointlist)\n",
    "    weight = []\n",
    "    for point in pointlist:\n",
    "        p_x = point[0]\n",
    "        p_y = point[1]\n",
    "        d_2 = (p_x - x) ** 2 + (p_y - y) ** 2\n",
    "        weight.append(1/d_2/dsum)\n",
    "    return weight"
   ]
  },
  {
   "cell_type": "code",
   "execution_count": 7,
   "id": "ab27c4c8-bf30-4418-a999-c6286529fda2",
   "metadata": {},
   "outputs": [],
   "source": [
    "def IDW(x, y, pointlist=[]):\n",
    "    weight = Weight(x, y, pointlist)\n",
    "    i = 0\n",
    "    inter = 0\n",
    "    for i in range(len(pointlist)):\n",
    "        inter = pointlist[i][2] * weight[i] + inter\n",
    "    return inter\n",
    "    "
   ]
  },
  {
   "cell_type": "code",
   "execution_count": 12,
   "id": "f8623ce5-1aab-46c4-9da5-271ff0d30ccf",
   "metadata": {},
   "outputs": [
    {
     "ename": "TypeError",
     "evalue": "'module' object is not callable",
     "output_type": "error",
     "traceback": [
      "\u001b[1;31m---------------------------------------------------------------------------\u001b[0m",
      "\u001b[1;31mTypeError\u001b[0m                                 Traceback (most recent call last)",
      "Input \u001b[1;32mIn [12]\u001b[0m, in \u001b[0;36m<cell line: 2>\u001b[1;34m()\u001b[0m\n\u001b[0;32m      1\u001b[0m pointlist \u001b[38;5;241m=\u001b[39m [(\u001b[38;5;241m1\u001b[39m, \u001b[38;5;241m2\u001b[39m, \u001b[38;5;241m20\u001b[39m), (\u001b[38;5;241m2\u001b[39m, \u001b[38;5;241m3\u001b[39m, \u001b[38;5;241m26\u001b[39m), (\u001b[38;5;241m3\u001b[39m, \u001b[38;5;241m4\u001b[39m, \u001b[38;5;241m23\u001b[39m)]\n\u001b[1;32m----> 2\u001b[0m x \u001b[38;5;241m=\u001b[39m \u001b[43mnp\u001b[49m\u001b[38;5;241;43m.\u001b[39;49m\u001b[43mrandom\u001b[49m\u001b[43m(\u001b[49m\u001b[38;5;241;43m1\u001b[39;49m\u001b[43m)\u001b[49m\n\u001b[0;32m      3\u001b[0m y \u001b[38;5;241m=\u001b[39m np\u001b[38;5;241m.\u001b[39mrandom(\u001b[38;5;241m1\u001b[39m)\n\u001b[0;32m      4\u001b[0m \u001b[38;5;28mprint\u001b[39m(\u001b[38;5;124mf\u001b[39m\u001b[38;5;124m\"\u001b[39m\u001b[38;5;124mx=\u001b[39m\u001b[38;5;132;01m{\u001b[39;00mx\u001b[38;5;132;01m}\u001b[39;00m\u001b[38;5;124m, y=\u001b[39m\u001b[38;5;132;01m{\u001b[39;00my\u001b[38;5;132;01m}\u001b[39;00m\u001b[38;5;124m, Interpolation=\u001b[39m\u001b[38;5;132;01m{\u001b[39;00mIDW(x, y, pointlist)\u001b[38;5;132;01m}\u001b[39;00m\u001b[38;5;124m\"\u001b[39m)\n",
      "\u001b[1;31mTypeError\u001b[0m: 'module' object is not callable"
     ]
    }
   ],
   "source": [
    "pointlist = [(1, 2, 20), (2, 3, 26), (3, 4, 23)]\n",
    "x = np.random(1)\n",
    "y = np.random(1)\n",
    "print(f\"x={x}, y={y}, Interpolation={IDW(x, y, pointlist)}\")"
   ]
  },
  {
   "cell_type": "code",
   "execution_count": null,
   "id": "a5e4b791-686c-476c-9ec6-2fa83f37e0ff",
   "metadata": {},
   "outputs": [],
   "source": []
  },
  {
   "cell_type": "code",
   "execution_count": null,
   "id": "db98ce89-3eb9-4671-ad58-19378836fe00",
   "metadata": {},
   "outputs": [],
   "source": []
  },
  {
   "cell_type": "code",
   "execution_count": null,
   "id": "7866d5fe-9828-4d1c-92c1-c6826fde8682",
   "metadata": {},
   "outputs": [],
   "source": []
  },
  {
   "cell_type": "code",
   "execution_count": null,
   "id": "6d646a1f-ad8c-44ca-b84d-45279965e6f0",
   "metadata": {},
   "outputs": [],
   "source": []
  }
 ],
 "metadata": {
  "kernelspec": {
   "display_name": "Python 3 (ipykernel)",
   "language": "python",
   "name": "python3"
  },
  "language_info": {
   "codemirror_mode": {
    "name": "ipython",
    "version": 3
   },
   "file_extension": ".py",
   "mimetype": "text/x-python",
   "name": "python",
   "nbconvert_exporter": "python",
   "pygments_lexer": "ipython3",
   "version": "3.9.12"
  }
 },
 "nbformat": 4,
 "nbformat_minor": 5
}
